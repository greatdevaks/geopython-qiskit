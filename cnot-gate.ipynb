{
 "cells": [
  {
   "cell_type": "code",
   "execution_count": 232,
   "id": "c7d25539",
   "metadata": {},
   "outputs": [
    {
     "name": "stderr",
     "output_type": "stream",
     "text": [
      "ibmqfactory.load_account:WARNING:2021-04-23 08:16:34,983: Credentials are already in use. The existing account in the session will be replaced.\n"
     ]
    }
   ],
   "source": [
    "import numpy as np\n",
    "# Importing standard Qiskit libraries\n",
    "from qiskit import QuantumCircuit, transpile, assemble, Aer, IBMQ\n",
    "from qiskit.tools.jupyter import *\n",
    "from qiskit.visualization import *\n",
    "from ibm_quantum_widgets import *\n",
    "# Importing basic math libraries\n",
    "from math import pi, sqrt\n",
    "\n",
    "# Loading your IBM Q account(s)\n",
    "provider = IBMQ.load_account()"
   ]
  },
  {
   "cell_type": "code",
   "execution_count": 233,
   "id": "af1cd032",
   "metadata": {},
   "outputs": [],
   "source": [
    "# Definining the simulator: statevector_simulator, or qasm_simulator\n",
    "simulator = \"qasm_simulator\""
   ]
  },
  {
   "cell_type": "code",
   "execution_count": 234,
   "id": "b3e04b39",
   "metadata": {},
   "outputs": [],
   "source": [
    "# Function to plot the Quantum Circuit / Quantum State\n",
    "def get_plot(quantum_circuit):\n",
    "    \"\"\"\n",
    "    Parameters:\n",
    "    quantum_circuit: The Quantum Circuit to visualize\n",
    "    Returns:\n",
    "    return: Plot/Visualization of the Quantum State\n",
    "    \"\"\"\n",
    "    sim = Aer.get_backend(simulator)\n",
    "    quantum_object = assemble(quantum_circuit)\n",
    "    if simulator == \"statevector_simulator\":\n",
    "        result = sim.run(quantum_object).result()\n",
    "        statevector = result.get_statevector()\n",
    "        return plot_bloch_multivector(statevector)\n",
    "    elif simulator == \"qasm_simulator\":\n",
    "        result = sim.run(quantum_object).result()\n",
    "        count = result.get_counts()\n",
    "        return plot_histogram(count)"
   ]
  },
  {
   "cell_type": "code",
   "execution_count": 235,
   "id": "24d23aee",
   "metadata": {},
   "outputs": [],
   "source": [
    "# Creating a single qubit Quantum Circuit\n",
    "num_qubits = 2\n",
    "qc = QuantumCircuit(num_qubits) # Creates a Quantum Circuit with 1 qubit\n",
    "num_input_qubits = num_qubits  # defines the number of qubits in the circuit\n",
    "num_output_qubits = num_qubits  # defines the number of output bits that we want to extract from the circuit\n",
    "# Note: The extraction of output from a Quantum Circuit is done via a process called `measurement`\n",
    "# Each measurement tells a specific qubit to give an output to a specific output bit\n",
    "qc_output = QuantumCircuit(num_input_qubits, num_output_qubits)  # qc_output is the Quantum Circuit"
   ]
  },
  {
   "cell_type": "code",
   "execution_count": 236,
   "id": "dc259c53",
   "metadata": {},
   "outputs": [
    {
     "data": {
      "image/png": "[encoded data removed]",
      "text/plain": [
       "<Figure size 116.552x204.68 with 1 Axes>"
      ]
     },
     "execution_count": 236,
     "metadata": {},
     "output_type": "execute_result"
    }
   ],
   "source": [
    "# Visualizing the Quantum Wire\n",
    "qc_output.draw() # Drawing the Quantum Circuit"
   ]
  },
  {
   "cell_type": "code",
   "execution_count": 237,
   "id": "2ca03b87",
   "metadata": {},
   "outputs": [],
   "source": [
    "# Here C is represents the measurement results / count"
   ]
  },
  {
   "cell_type": "code",
   "execution_count": 238,
   "id": "26d183e5",
   "metadata": {},
   "outputs": [
    {
     "data": {
      "image/png": "[encoded data removed]",
      "text/plain": [
       "<Figure size 146.652x204.68 with 1 Axes>"
      ]
     },
     "execution_count": 238,
     "metadata": {},
     "output_type": "execute_result"
    }
   ],
   "source": [
    "# Applying H-gate to the first qubit q0:\n",
    "qc_output.h(0)\n",
    "# Applying X-gate to the first qubit q:\n",
    "qc_output.x(1)\n",
    "qc_output.draw() # Drawing the Quantum Circuit"
   ]
  },
  {
   "cell_type": "code",
   "execution_count": 239,
   "id": "47fb8028",
   "metadata": {},
   "outputs": [
    {
     "data": {
      "image/png": "[encoded data removed]",
      "text/plain": [
       "<Figure size 267.052x204.68 with 1 Axes>"
      ]
     },
     "execution_count": 239,
     "metadata": {},
     "output_type": "execute_result"
    }
   ],
   "source": [
    "# TAKING MEASUREMENT ONLY FOR EXPLANATION PURPOSES\n",
    "# IN REAL CIRCUITS, MEASUREMENTS SHOULD NOT BE TAKEN LIKE THIS IN THE INTERMEDIATE STATES\n",
    "# MEASUREMENT CHANGES THE QUBIT'S STATE\n",
    "\n",
    "# Measuring the results\n",
    "for qubit in range(num_qubits):\n",
    "    qc_output.measure(qubit, qubit)\n",
    "\n",
    "qc_output.draw() # Drawing the Quantum Circuit"
   ]
  },
  {
   "cell_type": "code",
   "execution_count": 240,
   "id": "f7fb7656",
   "metadata": {},
   "outputs": [],
   "source": [
    "# Initial state of each qubit is |0>\n",
    "\n",
    "# After Hadamard gate is applied to q0, q0 can be in 0 or 1 state when measured (as Hadamard Gate\n",
    "# will bring q0 to some superposition state)\n",
    "# H q0 => |0> -> |0> or |1>\n",
    "\n",
    "# Applying Pauli-X Gate on q1 will flip its qubit state\n",
    "# X q1 => |0> -> |1>\n",
    "\n",
    "# Quantum State analysis for the above circuit\n",
    "# q0    q1    output\n",
    "# 0     1     0 1\n",
    "# 1     1     1 1"
   ]
  },
  {
   "cell_type": "code",
   "execution_count": 241,
   "id": "5d180a23",
   "metadata": {},
   "outputs": [
    {
     "data": {
      "image/png": "[encoded data removed]",
      "text/plain": [
       "<Figure size 504x360 with 1 Axes>"
      ]
     },
     "execution_count": 241,
     "metadata": {},
     "output_type": "execute_result"
    }
   ],
   "source": [
    "# Getting the plot and visualization\n",
    "get_plot(qc_output)"
   ]
  },
  {
   "cell_type": "code",
   "execution_count": 242,
   "id": "73deb917",
   "metadata": {
    "scrolled": true
   },
   "outputs": [
    {
     "data": {
      "image/png": "[encoded data removed]",
      "text/plain": [
       "<Figure size 327.252x204.68 with 1 Axes>"
      ]
     },
     "execution_count": 242,
     "metadata": {},
     "output_type": "execute_result"
    }
   ],
   "source": [
    "# Applying a CNOT gate from qubit q0 to qubit q1:\n",
    "qc_output.cx(0,1)\n",
    "qc_output.draw() # Drawing the Quantum Circuit"
   ]
  },
  {
   "cell_type": "code",
   "execution_count": 243,
   "id": "40b853d1",
   "metadata": {},
   "outputs": [],
   "source": [
    "# Measuring the results\n",
    "for qubit in range(num_qubits):\n",
    "    qc_output.measure(qubit, qubit)"
   ]
  },
  {
   "cell_type": "code",
   "execution_count": 244,
   "id": "d36ed9ac",
   "metadata": {
    "scrolled": false
   },
   "outputs": [
    {
     "data": {
      "image/png": "[encoded data removed]",
      "text/plain": [
       "<Figure size 447.652x204.68 with 1 Axes>"
      ]
     },
     "execution_count": 244,
     "metadata": {},
     "output_type": "execute_result"
    }
   ],
   "source": [
    "# Visualizing the Quantum Circuit using Simulator\n",
    "qc_output.draw() # Drawing the Quantum Circuit"
   ]
  },
  {
   "cell_type": "code",
   "execution_count": 245,
   "id": "025f3cc9",
   "metadata": {},
   "outputs": [],
   "source": [
    "# Quantum State analysis for the previously measure circuit\n",
    "# q0    q1    output\n",
    "# 0     1     0 1\n",
    "# 1     1     1 1\n",
    "\n",
    "# Applying CNOT Gate on from q0 to q1 will conditionally flip the q1 qubit\n",
    "# q0    q1    output\n",
    "# 0     1     0 1\n",
    "# 1     1     1 0\n",
    "\n"
   ]
  },
  {
   "cell_type": "code",
   "execution_count": 231,
   "id": "2c7dcf75",
   "metadata": {},
   "outputs": [
    {
     "data": {
      "image/png": "[encoded data removed]",
      "text/plain": [
       "<Figure size 504x360 with 1 Axes>"
      ]
     },
     "execution_count": 231,
     "metadata": {},
     "output_type": "execute_result"
    }
   ],
   "source": [
    "# Getting the plot and visualization\n",
    "get_plot(qc_output)"
   ]
  }
 ],
 "metadata": {
  "kernelspec": {
   "display_name": "Python 3",
   "language": "python",
   "name": "python3"
  },
  "language_info": {
   "codemirror_mode": {
    "name": "ipython",
    "version": 3
   },
   "file_extension": ".py",
   "mimetype": "text/x-python",
   "name": "python",
   "nbconvert_exporter": "python",
   "pygments_lexer": "ipython3",
   "version": "3.8.8"
  }
 },
 "nbformat": 4,
 "nbformat_minor": 5
}
